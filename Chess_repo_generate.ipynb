{
 "cells": [
  {
   "attachments": {},
   "cell_type": "markdown",
   "id": "20c4b584",
   "metadata": {
    "ExecuteTime": {
     "end_time": "2023-05-08T06:19:19.740086Z",
     "start_time": "2023-05-08T06:19:19.395756Z"
    }
   },
   "source": [
    "# Chess Enryption Algorithm"
   ]
  },
  {
   "cell_type": "code",
   "execution_count": 31,
   "id": "6424974c",
   "metadata": {
    "ExecuteTime": {
     "end_time": "2023-05-08T06:11:53.455500Z",
     "start_time": "2023-05-08T06:11:53.435451Z"
    }
   },
   "outputs": [
    {
     "name": "stdout",
     "output_type": "stream",
     "text": [
      "Generated encryption String is: g6h7Ba4Re7+Bf8c4cxb3Rxf6e4Qxd4Nd7Be3h4g3Rhc1Nxg5h5Nbd7e6Kh8Bxe3Bg2h4Qd6Rc1Rf5Bc2Rg2+Ba2Qg4+Nf4+Re8\n"
     ]
    }
   ],
   "source": [
    "import chess.pgn , io , pandas , re , math , random , os\n",
    "\n",
    "print_status=False\n",
    "games=[]\n",
    "white_games=[]\n",
    "black_games=[]\n",
    "files_list=os.listdir('games_database')\n",
    "if(print_status):\n",
    "    print(f\"Total files in directory are {files_list}\")\n",
    "    print(f\"File count {len(files_list)}\")\n",
    "\n",
    "\n",
    "def rand(lower,upper):\n",
    "    #upper and lower are both inclusive\n",
    "    return random.randint(lower,upper)\n",
    "\n",
    "def generate_repo(file):\n",
    "    pgn=open(file,encoding=\"utf-8\")\n",
    "    game=chess.pgn.read_game(pgn)\n",
    "    if(print_status):\n",
    "        print(\"Game metadata !\")\n",
    "        print(game)\n",
    "    \n",
    "        print(\"\\n\")\n",
    "    \n",
    "    mainline = game.mainline()\n",
    "    mainline=str(mainline)\n",
    "    text=mainline\n",
    "    pattern='\\d*\\. ([a-z1-9A-Z+]*)'\n",
    "    white=re.findall(pattern,text)\n",
    "    if(print_status):\n",
    "        print(\"white moves\")\n",
    "        print(white)\n",
    "    white_games.append(white)\n",
    "    pattern='\\d*\\. [a-z1-9A-Z+]* ([a-z1-9A-Z+]*)'\n",
    "    black=re.findall(pattern,text)\n",
    "    if(print_status):\n",
    "        print(\"Black moves\")\n",
    "        print(black)\n",
    "    black_games.append(black)\n",
    "\n",
    "def parse_files():\n",
    "    header=\"games_database/\"\n",
    "    i=1\n",
    "    for file in files_list:\n",
    "        if(print_status):\n",
    "            print(\"\\n\\nGame: \",i)\n",
    "        generate_repo(header+file)\n",
    "        i+=1\n",
    "        \n",
    "        \n",
    "parse_files()\n",
    "games.append(white_games)\n",
    "games.append(black_games)\n",
    "if(print_status):\n",
    "    print(f\"3d array of games {games}\")\n",
    "# description games => white_games , black_games\n",
    "# in white_games array all 10 games of white moves are stored \n",
    "# in game 1 we will find all moves of white of game 1\n",
    "\n",
    "def generate_TLA():\n",
    "    #requirements => 3 random variables\n",
    "    # var 1 => select white or black => 0 for white and 1 for black\n",
    "    # var 2 => select game number => from 1 to to total number of games \n",
    "    # var 3 => select a move number for that particular game => from move1 to last move of the game\n",
    "    # TLA => Nc5 is a 3 letter abbrevation for the particular chess move [played]\n",
    "    var1=rand(0,1)\n",
    "    bound1=len(games[var1])\n",
    "    var2=rand(1,bound1)-1\n",
    "    bound2=len(games[var1][var2])\n",
    "    var3=rand(1,bound2)-1\n",
    "    TLA=games[var1][var2][var3]\n",
    "    if(print_status):\n",
    "        print(f\"Three Letter Abbrevation obtained is: {TLA}\")\n",
    "    return TLA\n",
    "    \n",
    "    \n",
    "def generate_encryption_String(n):\n",
    "    #let n be the length of encryption string requires\n",
    "    encryption_String=''\n",
    "    for i in range(n):\n",
    "        encryption_String+=generate_TLA()\n",
    "    print(f\"Generated encryption String is: {encryption_String}\")\n",
    "    \n",
    "generate_encryption_String(32)\n",
    "\n"
   ]
  },
  {
   "cell_type": "markdown",
   "id": "d46739e2",
   "metadata": {
    "ExecuteTime": {
     "end_time": "2023-05-08T06:07:02.876690Z",
     "start_time": "2023-05-08T06:07:02.801383Z"
    }
   },
   "source": []
  },
  {
   "attachments": {
    "image.png": {
     "image/png": "[encoded data removed]"
    }
   },
   "cell_type": "markdown",
   "id": "241cd344",
   "metadata": {
    "ExecuteTime": {
     "end_time": "2023-04-24T15:00:18.726451Z",
     "start_time": "2023-04-24T15:00:18.715168Z"
    }
   },
   "source": [
    "Probablity that the same code encryptio  text is generated for the second time is\n",
    "10^-98\n",
    "\n",
    "![image.png](attachment:image.png)"
   ]
  },
  {
   "cell_type": "markdown",
   "id": "0630d046",
   "metadata": {},
   "source": []
  },
  {
   "cell_type": "markdown",
   "id": "2c31bde0",
   "metadata": {},
   "source": []
  },
  {
   "cell_type": "code",
   "execution_count": null,
   "id": "f927e14a",
   "metadata": {
    "ExecuteTime": {
     "end_time": "2023-04-24T14:56:38.579011Z",
     "start_time": "2023-04-24T14:56:36.637710Z"
    },
    "run_control": {
     "marked": true
    }
   },
   "outputs": [],
   "source": []
  },
  {
   "cell_type": "code",
   "execution_count": null,
   "id": "3a320e28",
   "metadata": {},
   "outputs": [],
   "source": []
  }
 ],
 "metadata": {
  "kernelspec": {
   "display_name": "Python 3 (ipykernel)",
   "language": "python",
   "name": "python3"
  },
  "language_info": {
   "codemirror_mode": {
    "name": "ipython",
    "version": 3
   },
   "file_extension": ".py",
   "mimetype": "text/x-python",
   "name": "python",
   "nbconvert_exporter": "python",
   "pygments_lexer": "ipython3",
   "version": "3.9.7"
  },
  "toc": {
   "base_numbering": 1,
   "nav_menu": {},
   "number_sections": true,
   "sideBar": true,
   "skip_h1_title": false,
   "title_cell": "Table of Contents",
   "title_sidebar": "Contents",
   "toc_cell": false,
   "toc_position": {},
   "toc_section_display": true,
   "toc_window_display": false
  }
 },
 "nbformat": 4,
 "nbformat_minor": 5
}
