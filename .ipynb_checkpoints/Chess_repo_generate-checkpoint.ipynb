{
 "cells": [
  {
   "cell_type": "code",
   "execution_count": 33,
   "id": "20c4b584",
   "metadata": {
    "ExecuteTime": {
     "end_time": "2023-04-24T15:08:25.774829Z",
     "start_time": "2023-04-24T15:08:25.759107Z"
    }
   },
   "outputs": [],
   "source": []
  },
  {
   "cell_type": "code",
   "execution_count": 2,
   "id": "d46739e2",
   "metadata": {
    "ExecuteTime": {
     "end_time": "2023-04-25T07:54:20.140829Z",
     "start_time": "2023-04-25T07:54:20.081658Z"
    }
   },
   "outputs": [
    {
     "name": "stdout",
     "output_type": "stream",
     "text": [
      "\n",
      "\n",
      "1. e4 { [%eval 0.36] [%clk 1:59:53] } 1... e5 { [%eval 0.35] [%clk 1:59:11] } 2. Nf3 { [%eval 0.29] [%clk 1:59:46] } 2... Nc6 { [%eval 0.32] [%clk 1:58:51] } 3. Bb5 { [%eval 0.34] [%clk 1:59:40] } 3... a6 { [%eval 0.37] [%clk 1:58:17] } 4. Ba4 { [%eval 0.31] [%clk 1:59:34] } 4... Nf6 { [%eval 0.37] [%clk 1:57:52] } 5. O-O { [%eval 0.29] [%clk 1:59:07] } 5... Be7 { [%eval 0.36] [%clk 1:57:39] } 6. Bxc6 { [%eval 0.12] [%clk 1:58:42] } 6... dxc6 { [%eval 0.09] [%clk 1:57:19] } 7. Re1 { [%eval 0.0] [%clk 1:58:38] } 7... Nd7 { [%eval 0.22] [%clk 1:48:02] } 8. d4 { [%eval 0.02] [%clk 1:58:03] } 8... exd4 { [%eval 0.01] [%clk 1:46:34] } 9. Qxd4 { [%eval 0.16] [%clk 1:57:56] } 9... O-O { [%eval 0.13] [%clk 1:45:52] } 10. Bf4 { [%eval -0.11] [%clk 1:57:48] } 10... Nc5 { [%eval 0.0] [%clk 1:41:52] } 11. Qe3 { [%eval 0.0] [%clk 1:57:12] } 11... Bg4 { [%eval 0.48] [%clk 1:33:57] } 12. Nd4 { [%eval 0.62] [%clk 1:53:32] } 12... Qd7 { [%eval 0.55] [%clk 1:25:11] } 13. Nc3 { [%eval 0.49] [%clk 1:29:29] } 13... Rad8 { [%eval 0.1] [%clk 1:23:04] } 14. Nf5 { [%eval 0.29] [%clk 1:26:22] } 14... Ne6 { [%eval 0.67] [%clk 1:17:31] } 15. Nxe7+ { [%eval 0.39] [%clk 1:21:04] } 15... Qxe7 { [%eval 0.57] [%clk 1:17:07] } 16. Bg3 { [%eval 0.6] [%clk 1:20:22] } 16... Bh5 { [%eval 0.54] [%clk 1:15:55] } 17. f3 { [%eval 0.78] [%clk 1:16:18] } 17... f6 { [%eval 0.68] [%clk 1:14:53] } 18. h3 { [%eval 0.7] [%clk 1:12:44] } 18... h6 { [%eval 0.7] [%clk 1:13:57] } 19. Kh2 { [%eval 0.62] [%clk 1:10:27] } 19... Bf7 { [%eval 0.66] [%clk 0:59:12] } 20. Rad1 { [%eval 0.73] [%clk 1:05:10] } 20... b6 { [%eval 0.59] [%clk 0:52:10] } 21. a3 { [%eval 0.69] [%clk 0:57:17] } 21... a5 { [%eval 0.73] [%clk 0:48:04] } 22. Ne2 { [%eval 0.58] [%clk 0:52:13] } 22... Rxd1 { [%eval 0.82] [%clk 0:37:56] } 23. Rxd1 { [%eval 0.63] [%clk 0:52:02] } 23... Rd8 { [%eval 0.6] [%clk 0:37:52] } 24. Rd3 { [%eval 0.62] [%clk 0:51:32] } 24... c5 { [%eval 0.98] [%clk 0:29:27] } 25. Qd2 { [%eval 0.94] [%clk 0:49:18] } 25... c6 $6 { [%eval 1.52] Inaccuracy. Rxd3 was best. [%clk 0:18:43] } 26. Rxd8+ { [%eval 1.57] [%clk 0:46:34] } 26... Nxd8 { [%eval 1.53] [%clk 0:18:35] } 27. Qf4 { [%eval 1.55] [%clk 0:46:16] } 27... b5 { [%eval 1.7] [%clk 0:13:33] } 28. Qb8 { [%eval 1.61] [%clk 0:42:52] } 28... Kh7 { [%eval 1.31] [%clk 0:12:55] } 29. Bd6 { [%eval 1.45] [%clk 0:28:27] } 29... Qd7 { [%eval 1.25] [%clk 0:12:27] } 30. Ng3 { [%eval 0.79] [%clk 0:21:30] } 30... Ne6 { [%eval 0.88] [%clk 0:11:00] } 31. f4 { [%eval 0.41] [%clk 0:19:41] } 31... h5 { [%eval 0.66] [%clk 0:07:22] } 32. c3 { [%eval 0.99] [%clk 0:17:20] } 32... c4 { [%eval 0.69] [%clk 0:06:23] } 33. h4 { [%eval 1.1] [%clk 0:14:39] } 33... Qd8 { [%eval 0.57] [%clk 0:06:13] } 34. Qb7 { [%eval 0.48] [%clk 0:10:07] } 34... Be8 { [%eval 0.53] [%clk 0:05:31] } 35. Nf5 { [%eval 0.36] [%clk 0:09:45] } 35... Qd7 { [%eval 0.38] [%clk 0:04:42] } 36. Qb8 { [%eval 0.37] [%clk 0:08:41] } 36... Qd8 { [%eval 0.33] [%clk 0:03:14] } 37. Qxd8 { [%eval 0.46] [%clk 0:05:03] } 37... Nxd8 { [%eval 0.24] [%clk 0:03:12] } 38. Nd4 { [%eval 0.24] [%clk 0:04:17] } 38... Nb7 { [%eval 0.15] [%clk 0:02:39] } 39. e5 { [%eval 0.0] [%clk 0:03:58] } 39... Kg8 { [%eval 0.13] [%clk 0:00:53] } 40. Kg3 { [%eval 0.0] [%clk 1:03:31] } 40... Bd7 { [%eval 0.0] [%clk 1:00:27] } 41. Bc7 { [%eval 0.0] [%clk 0:54:02] } 41... Nc5 { [%eval 0.0] [%clk 0:55:59] } 42. Bxa5 { [%eval 0.17] [%clk 0:53:21] } 42... Kf7 { [%eval 0.21] [%clk 0:53:41] } 43. Bb4 { [%eval 0.15] [%clk 0:48:07] } 43... Nd3 { [%eval 0.18] [%clk 0:40:07] } 44. e6+ { [%eval 0.15] [%clk 0:47:52] } 44... Bxe6 { [%eval 0.17] [%clk 0:40:01] } 45. Nxc6 { [%eval 0.14] [%clk 0:47:48] } 45... Bd7 { [%eval 0.15] [%clk 0:38:46] } 46. Nd4 { [%eval 0.19] [%clk 0:47:32] } 46... Nxb2 { [%eval 0.12] [%clk 0:38:32] } 47. Kf3 { [%eval 0.0] [%clk 0:45:22] } 47... Nd3 { [%eval 0.0] [%clk 0:30:49] } 48. g3 { [%eval 0.0] [%clk 0:43:28] } 48... Nc1 { [%eval 0.27] [%clk 0:27:23] } 49. Ke3 { [%eval 0.18] [%clk 0:42:23] }\n",
      "\n",
      "\n",
      "white moves\n",
      "['e4', 'e5', 'Nf3', 'Nc6', 'Bb5', 'a6', 'Ba4', 'Nf6', 'O', 'Be7', 'Bxc6', 'dxc6', 'Re1', 'Nd7', 'd4', 'exd4', 'Qxd4', 'O', 'Bf4', 'Nc5', 'Qe3', 'Bg4', 'Nd4', 'Qd7', 'Nc3', 'Rad8', 'Nf5', 'Ne6', 'Nxe7+', 'Qxe7', 'Bg3', 'Bh5', 'f3', 'f6', 'h3', 'h6', 'Kh2', 'Bf7', 'Rad1', 'b6', 'a3', 'a5', 'Ne2', 'Rxd1', 'Rxd1', 'Rd8', 'Rd3', 'c5', 'Qd2', 'c6', 'Rxd3', '', 'Rxd8+', 'Nxd8', 'Qf4', 'b5', 'Qb8', 'Kh7', 'Bd6', 'Qd7', 'Ng3', 'Ne6', 'f4', 'h5', 'c3', 'c4', 'h4', 'Qd8', 'Qb7', 'Be8', 'Nf5', 'Qd7', 'Qb8', 'Qd8', 'Qxd8', 'Nxd8', 'Nd4', 'Nb7', 'e5', 'Kg8', 'Kg3', 'Bd7', 'Bc7', 'Nc5', 'Bxa5', 'Kf7', 'Bb4', 'Nd3', 'e6+', 'Bxe6', 'Nxc6', 'Bd7', 'Nd4', 'Nxb2', 'Kf3', 'Nd3', 'g3', 'Nc1', 'Ke3']\n",
      "\n",
      " Black moves\n",
      "['', '', '', '', '', '', '', '', '', '', '', '', '', '', '', '', '', '', '', '', '', '', '', '', '', '', '', '', '', '', '', '', '', '', '', '', '', '', '', '', '', '', '', '', '', '', '', '', 'was', '', '', '', '', '', '', '', '', '', '', '', '', '', '', '', '', '', '', '', '', '', '', '', '', '', '', '', '', '', '', '', '', '', '', '', '', '', '', '', '', '', '', '', '', '', '', '']\n"
     ]
    }
   ],
   "source": [
    "import chess.pgn\n",
    "import io\n",
    "import pandas\n",
    "import re\n",
    "pgn=open(\"C:/Users/Aryan/OneDrive/Desktop/Codes/Python/Chess/games_database/game1.pgn\",encoding=\"utf-8\")\n",
    "\n",
    "\n",
    "game=chess.pgn.read_game(pgn)\n",
    "#print(game)\n",
    "print(\"\\n\")\n",
    "mainline = game.mainline()\n",
    "mainline=str(mainline)\n",
    "text=mainline\n",
    "\n",
    "print(text)\n",
    "print('\\n')\n",
    "pattern='\\d*\\. ([a-z1-9A-Z+]*)'\n",
    "white=re.findall(pattern,text)\n",
    "print(\"white moves\")\n",
    "print(white)\n",
    "pattern='\\d*\\. [a-z1-9A-Z+]* ([a-z1-9A-Z+]*)'\n",
    "black=re.findall(pattern,text)\n",
    "print(\"\\n Black moves\")\n",
    "print(black)"
   ]
  },
  {
   "cell_type": "code",
   "execution_count": 21,
   "id": "241cd344",
   "metadata": {
    "ExecuteTime": {
     "end_time": "2023-04-24T15:00:18.726451Z",
     "start_time": "2023-04-24T15:00:18.715168Z"
    }
   },
   "outputs": [
    {
     "name": "stdout",
     "output_type": "stream",
     "text": [
      "None\n"
     ]
    }
   ],
   "source": [
    "\n"
   ]
  },
  {
   "cell_type": "code",
   "execution_count": null,
   "id": "f927e14a",
   "metadata": {
    "ExecuteTime": {
     "end_time": "2023-04-24T14:56:38.579011Z",
     "start_time": "2023-04-24T14:56:36.637710Z"
    },
    "run_control": {
     "marked": true
    }
   },
   "outputs": [],
   "source": []
  },
  {
   "cell_type": "code",
   "execution_count": null,
   "id": "3a320e28",
   "metadata": {},
   "outputs": [],
   "source": []
  }
 ],
 "metadata": {
  "kernelspec": {
   "display_name": "Python 3 (ipykernel)",
   "language": "python",
   "name": "python3"
  },
  "language_info": {
   "codemirror_mode": {
    "name": "ipython",
    "version": 3
   },
   "file_extension": ".py",
   "mimetype": "text/x-python",
   "name": "python",
   "nbconvert_exporter": "python",
   "pygments_lexer": "ipython3",
   "version": "3.9.7"
  },
  "toc": {
   "base_numbering": 1,
   "nav_menu": {},
   "number_sections": true,
   "sideBar": true,
   "skip_h1_title": false,
   "title_cell": "Table of Contents",
   "title_sidebar": "Contents",
   "toc_cell": false,
   "toc_position": {},
   "toc_section_display": true,
   "toc_window_display": false
  }
 },
 "nbformat": 4,
 "nbformat_minor": 5
}
